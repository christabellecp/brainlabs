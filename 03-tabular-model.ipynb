{
 "cells": [
  {
   "cell_type": "markdown",
   "id": "aerial-sheet",
   "metadata": {},
   "source": [
    "# Modeling Tabular Data"
   ]
  },
  {
   "cell_type": "code",
   "execution_count": 1,
   "id": "specialized-carolina",
   "metadata": {},
   "outputs": [
    {
     "name": "stderr",
     "output_type": "stream",
     "text": [
      "/home/cpabalan/anaconda3/lib/python3.8/site-packages/sklearn/utils/deprecation.py:143: FutureWarning: The sklearn.utils.testing module is  deprecated in version 0.22 and will be removed in version 0.24. The corresponding classes / functions should instead be imported from sklearn.utils. Anything that cannot be imported from sklearn.utils is now part of the private API.\n",
      "  warnings.warn(message, FutureWarning)\n"
     ]
    }
   ],
   "source": [
    "from prep_pipeline import *\n",
    "from imports import *\n",
    "from scipy.stats.stats import pearsonr \n",
    "from CogDataset3d import *\n",
    "import lazypredict\n",
    "from lazypredict.Supervised import LazyRegressor\n",
    "\n",
    "import warnings\n",
    "warnings.filterwarnings(\"ignore\")\n",
    "%load_ext autoreload\n",
    "%autoreload 2"
   ]
  },
  {
   "cell_type": "code",
   "execution_count": 3,
   "id": "integrated-doctrine",
   "metadata": {},
   "outputs": [],
   "source": [
    "df = pd.read_csv('cleaned_df_5_31.csv')\n",
    "X_tr, X_v = get_file_splits()\n",
    "X_train, X_val, y_adas_train, y_adas_val, y_mmse_train, y_mmse_val= split_train_val(X_tr, X_v, df)"
   ]
  },
  {
   "cell_type": "code",
   "execution_count": 4,
   "id": "subject-wisconsin",
   "metadata": {},
   "outputs": [
    {
     "data": {
      "text/plain": [
       "Index(['AGE', 'PTEDUCAT', 'APOE4', 'ABETA_bl', 'TAU_bl', 'PTAU_bl', 'M',\n",
       "       'DX_bl_AD', 'DX_bl_CN', 'DX_bl_EMCI', 'DX_bl_LMCI', 'DX_bl_SMC',\n",
       "       'PTGENDER_Female', 'PTGENDER_Male', 'PTGENDER_nan', 'PTMARRY_Divorced',\n",
       "       'PTMARRY_Married', 'PTMARRY_Never married'],\n",
       "      dtype='object')"
      ]
     },
     "execution_count": 4,
     "metadata": {},
     "output_type": "execute_result"
    }
   ],
   "source": [
    "X_train.columns"
   ]
  },
  {
   "cell_type": "markdown",
   "id": "dental-child",
   "metadata": {},
   "source": [
    "# Factors\n",
    "1. Age\n",
    "2. Education\n",
    "3. Apolipoprotein E4\n",
    "4. ABETA\n",
    "5. TAU\n",
    "6. M\n",
    "7. DX\n",
    "8. Gender\n",
    "9. Married"
   ]
  },
  {
   "cell_type": "code",
   "execution_count": 6,
   "id": "moved-examination",
   "metadata": {},
   "outputs": [
    {
     "data": {
      "text/plain": [
       "((1158, 18), (247, 18))"
      ]
     },
     "execution_count": 6,
     "metadata": {},
     "output_type": "execute_result"
    }
   ],
   "source": [
    "X_train.shape, X_val.shape"
   ]
  },
  {
   "cell_type": "markdown",
   "id": "apparent-recognition",
   "metadata": {},
   "source": [
    "## Lazy Predict for ADAS11 "
   ]
  },
  {
   "cell_type": "code",
   "execution_count": 8,
   "id": "objective-routine",
   "metadata": {},
   "outputs": [
    {
     "name": "stderr",
     "output_type": "stream",
     "text": [
      " 26%|██▌       | 11/42 [00:01<00:03,  9.06it/s]"
     ]
    },
    {
     "name": "stdout",
     "output_type": "stream",
     "text": [
      "GammaRegressor model failed to execute\n",
      "Some value(s) of y are out of the valid range for family GammaDistribution\n"
     ]
    },
    {
     "name": "stderr",
     "output_type": "stream",
     "text": [
      "100%|██████████| 42/42 [00:05<00:00,  7.91it/s]\n"
     ]
    },
    {
     "data": {
      "text/html": [
       "<div>\n",
       "<style scoped>\n",
       "    .dataframe tbody tr th:only-of-type {\n",
       "        vertical-align: middle;\n",
       "    }\n",
       "\n",
       "    .dataframe tbody tr th {\n",
       "        vertical-align: top;\n",
       "    }\n",
       "\n",
       "    .dataframe thead th {\n",
       "        text-align: right;\n",
       "    }\n",
       "</style>\n",
       "<table border=\"1\" class=\"dataframe\">\n",
       "  <thead>\n",
       "    <tr style=\"text-align: right;\">\n",
       "      <th></th>\n",
       "      <th>Adjusted R-Squared</th>\n",
       "      <th>R-Squared</th>\n",
       "      <th>RMSE</th>\n",
       "      <th>Time Taken</th>\n",
       "    </tr>\n",
       "    <tr>\n",
       "      <th>Model</th>\n",
       "      <th></th>\n",
       "      <th></th>\n",
       "      <th></th>\n",
       "      <th></th>\n",
       "    </tr>\n",
       "  </thead>\n",
       "  <tbody>\n",
       "    <tr>\n",
       "      <th>GradientBoostingRegressor</th>\n",
       "      <td>0.46</td>\n",
       "      <td>0.50</td>\n",
       "      <td>7.08</td>\n",
       "      <td>0.22</td>\n",
       "    </tr>\n",
       "    <tr>\n",
       "      <th>HistGradientBoostingRegressor</th>\n",
       "      <td>0.44</td>\n",
       "      <td>0.48</td>\n",
       "      <td>7.20</td>\n",
       "      <td>0.73</td>\n",
       "    </tr>\n",
       "    <tr>\n",
       "      <th>MLPRegressor</th>\n",
       "      <td>0.44</td>\n",
       "      <td>0.48</td>\n",
       "      <td>7.20</td>\n",
       "      <td>1.16</td>\n",
       "    </tr>\n",
       "    <tr>\n",
       "      <th>LGBMRegressor</th>\n",
       "      <td>0.41</td>\n",
       "      <td>0.45</td>\n",
       "      <td>7.37</td>\n",
       "      <td>0.16</td>\n",
       "    </tr>\n",
       "    <tr>\n",
       "      <th>BayesianRidge</th>\n",
       "      <td>0.40</td>\n",
       "      <td>0.44</td>\n",
       "      <td>7.46</td>\n",
       "      <td>0.02</td>\n",
       "    </tr>\n",
       "    <tr>\n",
       "      <th>ExtraTreesRegressor</th>\n",
       "      <td>0.40</td>\n",
       "      <td>0.44</td>\n",
       "      <td>7.47</td>\n",
       "      <td>0.49</td>\n",
       "    </tr>\n",
       "    <tr>\n",
       "      <th>ElasticNetCV</th>\n",
       "      <td>0.40</td>\n",
       "      <td>0.44</td>\n",
       "      <td>7.47</td>\n",
       "      <td>0.12</td>\n",
       "    </tr>\n",
       "    <tr>\n",
       "      <th>LassoLarsCV</th>\n",
       "      <td>0.39</td>\n",
       "      <td>0.44</td>\n",
       "      <td>7.47</td>\n",
       "      <td>0.05</td>\n",
       "    </tr>\n",
       "    <tr>\n",
       "      <th>LassoCV</th>\n",
       "      <td>0.39</td>\n",
       "      <td>0.44</td>\n",
       "      <td>7.47</td>\n",
       "      <td>0.12</td>\n",
       "    </tr>\n",
       "    <tr>\n",
       "      <th>LinearRegression</th>\n",
       "      <td>0.39</td>\n",
       "      <td>0.44</td>\n",
       "      <td>7.47</td>\n",
       "      <td>0.02</td>\n",
       "    </tr>\n",
       "  </tbody>\n",
       "</table>\n",
       "</div>"
      ],
      "text/plain": [
       "                               Adjusted R-Squared  R-Squared  RMSE  Time Taken\n",
       "Model                                                                         \n",
       "GradientBoostingRegressor                    0.46       0.50  7.08        0.22\n",
       "HistGradientBoostingRegressor                0.44       0.48  7.20        0.73\n",
       "MLPRegressor                                 0.44       0.48  7.20        1.16\n",
       "LGBMRegressor                                0.41       0.45  7.37        0.16\n",
       "BayesianRidge                                0.40       0.44  7.46        0.02\n",
       "ExtraTreesRegressor                          0.40       0.44  7.47        0.49\n",
       "ElasticNetCV                                 0.40       0.44  7.47        0.12\n",
       "LassoLarsCV                                  0.39       0.44  7.47        0.05\n",
       "LassoCV                                      0.39       0.44  7.47        0.12\n",
       "LinearRegression                             0.39       0.44  7.47        0.02"
      ]
     },
     "execution_count": 8,
     "metadata": {},
     "output_type": "execute_result"
    }
   ],
   "source": [
    "reg = LazyRegressor(verbose=0, ignore_warnings=False, custom_metric=None)\n",
    "ADAS_models, ADAS_predictions = reg.fit(X_train, X_val, y_adas_train, y_adas_val)\n",
    "ADAS_predictions[:10]"
   ]
  },
  {
   "cell_type": "code",
   "execution_count": 74,
   "id": "parliamentary-manual",
   "metadata": {},
   "outputs": [
    {
     "name": "stdout",
     "output_type": "stream",
     "text": [
      "hgradboost Train Loss: 20.682\n",
      "hgradboost Train R2  : 0.801\n",
      "\n",
      "hgradboost Valid Loss: 49.192\n",
      "hgradboost Valid R2  : 0.506\n",
      "\n"
     ]
    }
   ],
   "source": [
    "from sklearn.ensemble import *\n",
    "pipe = Pipeline([('regressor', HistGradientBoostingRegressor(loss = 'poisson', l2_regularization=.25, max_depth = 6, random_state=42))])\n",
    "pipe.fit(X_train, y_adas_train)\n",
    "hgradboost_pred = pipe.predict(X_val)\n",
    "hgradboost_pred_train = pipe.predict(X_train)\n",
    "\n",
    "print(f\"{'hgradboost Train Loss'}: {round(mean_squared_error(y_adas_train, hgradboost_pred_train),3)}\")\n",
    "print(f\"{'hgradboost Train R2  '}: {round(r2_score(y_adas_train, hgradboost_pred_train),3)}\\n\")\n",
    "print(f\"{'hgradboost Valid Loss'}: {round(mean_squared_error(y_adas_val, hgradboost_pred),3)}\")\n",
    "print(f\"{'hgradboost Valid R2  '}: {round(r2_score(y_adas_val, hgradboost_pred),3)}\\n\")"
   ]
  },
  {
   "cell_type": "code",
   "execution_count": 75,
   "id": "harmful-treasurer",
   "metadata": {},
   "outputs": [
    {
     "data": {
      "text/plain": [
       "['hgb_model.joblib']"
      ]
     },
     "execution_count": 75,
     "metadata": {},
     "output_type": "execute_result"
    }
   ],
   "source": [
    "# from joblib import dump, load\n",
    "# dump(pipe, 'hgb_model.joblib') "
   ]
  },
  {
   "cell_type": "code",
   "execution_count": 73,
   "id": "awful-marble",
   "metadata": {},
   "outputs": [
    {
     "name": "stdout",
     "output_type": "stream",
     "text": [
      "Validation Corr: 0.711\n",
      "Train Corr: 0.902\n"
     ]
    }
   ],
   "source": [
    "print(f'Validation Corr: {round(pearsonr(hgradboost_pred, y_adas_val)[0],3)}')\n",
    "print(f'Train Corr: {round(pearsonr(hgradboost_pred_train, y_adas_train)[0],3)}')"
   ]
  },
  {
   "cell_type": "code",
   "execution_count": 72,
   "id": "fallen-subscription",
   "metadata": {},
   "outputs": [
    {
     "data": {
      "image/png": "[encoded data removed]",
      "text/plain": [
       "<Figure size 1080x360 with 2 Axes>"
      ]
     },
     "metadata": {
      "needs_background": "light"
     },
     "output_type": "display_data"
    }
   ],
   "source": [
    "fig, ax = plt.subplots(1,2, figsize= (15,5))\n",
    "ax[1].scatter(y_adas_val, hgradboost_pred)\n",
    "ax[1].set_title('Validation Actual vs Pred')\n",
    "ax[0].scatter(y_adas_train, hgradboost_pred_train)\n",
    "ax[0].set_title('Train Actual vs Pred')\n",
    "plt.show()"
   ]
  },
  {
   "cell_type": "code",
   "execution_count": null,
   "id": "hawaiian-training",
   "metadata": {},
   "outputs": [],
   "source": []
  }
 ],
 "metadata": {
  "kernelspec": {
   "display_name": "Python 3",
   "language": "python",
   "name": "python3"
  },
  "language_info": {
   "codemirror_mode": {
    "name": "ipython",
    "version": 3
   },
   "file_extension": ".py",
   "mimetype": "text/x-python",
   "name": "python",
   "nbconvert_exporter": "python",
   "pygments_lexer": "ipython3",
   "version": "3.8.3"
  }
 },
 "nbformat": 4,
 "nbformat_minor": 5
}
