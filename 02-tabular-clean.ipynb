{
 "cells": [
  {
   "cell_type": "markdown",
   "metadata": {},
   "source": [
    "# Data Preprocessing "
   ]
  },
  {
   "cell_type": "markdown",
   "metadata": {},
   "source": [
    "#### In this notebook we perform the following data cleaning process:\n",
    " - 1. Filter the df with only rows where we have the corresponding MRI\n",
    " - 2. Remove any rows that don't have both an ADAS11 and MMSE score \n",
    " - 3. Drop all columns corresponding to a cognitive score\n",
    " - 4. Drop all columns not present during baseline\n",
    " - 5. Correct the TAU/ABETA columns (contain strings like >1700) and transform to float\n",
    " - 6. Drop all columns with extensive NaNs and impute remaining NaNs \n",
    " - 7. Change Datatypes to approprate type\n",
    " - 8. One Hot Encode the categorical columns"
   ]
  },
  {
   "cell_type": "code",
   "execution_count": 2,
   "metadata": {},
   "outputs": [],
   "source": [
    "from prep_pipeline import *\n",
    "from initialize import *\n",
    "import warnings\n",
    "warnings.filterwarnings(\"ignore\")\n",
    "%load_ext autoreload\n",
    "%autoreload 2"
   ]
  },
  {
   "cell_type": "code",
   "execution_count": 3,
   "metadata": {},
   "outputs": [],
   "source": [
    "data = pd.read_csv('/home/cpabalan/brainlabs_cp/brainlabs_prep/data/ADNIMERGE.csv', low_memory=False)"
   ]
  },
  {
   "cell_type": "code",
   "execution_count": 4,
   "metadata": {},
   "outputs": [
    {
     "data": {
      "text/html": [
       "<div>\n",
       "<style scoped>\n",
       "    .dataframe tbody tr th:only-of-type {\n",
       "        vertical-align: middle;\n",
       "    }\n",
       "\n",
       "    .dataframe tbody tr th {\n",
       "        vertical-align: top;\n",
       "    }\n",
       "\n",
       "    .dataframe thead th {\n",
       "        text-align: right;\n",
       "    }\n",
       "</style>\n",
       "<table border=\"1\" class=\"dataframe\">\n",
       "  <thead>\n",
       "    <tr style=\"text-align: right;\">\n",
       "      <th></th>\n",
       "      <th>RID</th>\n",
       "      <th>PTID</th>\n",
       "      <th>VISCODE</th>\n",
       "      <th>SITE</th>\n",
       "      <th>COLPROT</th>\n",
       "      <th>ORIGPROT</th>\n",
       "      <th>EXAMDATE</th>\n",
       "      <th>DX_bl</th>\n",
       "      <th>AGE</th>\n",
       "      <th>PTGENDER</th>\n",
       "      <th>...</th>\n",
       "      <th>TAU_bl</th>\n",
       "      <th>PTAU_bl</th>\n",
       "      <th>FDG_bl</th>\n",
       "      <th>PIB_bl</th>\n",
       "      <th>AV45_bl</th>\n",
       "      <th>Years_bl</th>\n",
       "      <th>Month_bl</th>\n",
       "      <th>Month</th>\n",
       "      <th>M</th>\n",
       "      <th>update_stamp</th>\n",
       "    </tr>\n",
       "  </thead>\n",
       "  <tbody>\n",
       "    <tr>\n",
       "      <th>0</th>\n",
       "      <td>2</td>\n",
       "      <td>011_S_0002</td>\n",
       "      <td>bl</td>\n",
       "      <td>11</td>\n",
       "      <td>ADNI1</td>\n",
       "      <td>ADNI1</td>\n",
       "      <td>2005-09-08</td>\n",
       "      <td>CN</td>\n",
       "      <td>74.3</td>\n",
       "      <td>Male</td>\n",
       "      <td>...</td>\n",
       "      <td>NaN</td>\n",
       "      <td>NaN</td>\n",
       "      <td>1.36665</td>\n",
       "      <td>NaN</td>\n",
       "      <td>NaN</td>\n",
       "      <td>0.000000</td>\n",
       "      <td>0.00000</td>\n",
       "      <td>0</td>\n",
       "      <td>0.0</td>\n",
       "      <td>2021-02-06 04:52:41.0</td>\n",
       "    </tr>\n",
       "    <tr>\n",
       "      <th>1</th>\n",
       "      <td>3</td>\n",
       "      <td>011_S_0003</td>\n",
       "      <td>bl</td>\n",
       "      <td>11</td>\n",
       "      <td>ADNI1</td>\n",
       "      <td>ADNI1</td>\n",
       "      <td>2005-09-12</td>\n",
       "      <td>AD</td>\n",
       "      <td>81.3</td>\n",
       "      <td>Male</td>\n",
       "      <td>...</td>\n",
       "      <td>239.7</td>\n",
       "      <td>22.83</td>\n",
       "      <td>1.08355</td>\n",
       "      <td>NaN</td>\n",
       "      <td>NaN</td>\n",
       "      <td>0.000000</td>\n",
       "      <td>0.00000</td>\n",
       "      <td>0</td>\n",
       "      <td>0.0</td>\n",
       "      <td>2021-02-06 04:52:41.0</td>\n",
       "    </tr>\n",
       "    <tr>\n",
       "      <th>2</th>\n",
       "      <td>3</td>\n",
       "      <td>011_S_0003</td>\n",
       "      <td>m06</td>\n",
       "      <td>11</td>\n",
       "      <td>ADNI1</td>\n",
       "      <td>ADNI1</td>\n",
       "      <td>2006-03-13</td>\n",
       "      <td>AD</td>\n",
       "      <td>81.3</td>\n",
       "      <td>Male</td>\n",
       "      <td>...</td>\n",
       "      <td>239.7</td>\n",
       "      <td>22.83</td>\n",
       "      <td>1.08355</td>\n",
       "      <td>NaN</td>\n",
       "      <td>NaN</td>\n",
       "      <td>0.498289</td>\n",
       "      <td>5.96721</td>\n",
       "      <td>6</td>\n",
       "      <td>6.0</td>\n",
       "      <td>2021-02-06 04:52:41.0</td>\n",
       "    </tr>\n",
       "    <tr>\n",
       "      <th>3</th>\n",
       "      <td>3</td>\n",
       "      <td>011_S_0003</td>\n",
       "      <td>m12</td>\n",
       "      <td>11</td>\n",
       "      <td>ADNI1</td>\n",
       "      <td>ADNI1</td>\n",
       "      <td>2006-09-12</td>\n",
       "      <td>AD</td>\n",
       "      <td>81.3</td>\n",
       "      <td>Male</td>\n",
       "      <td>...</td>\n",
       "      <td>239.7</td>\n",
       "      <td>22.83</td>\n",
       "      <td>1.08355</td>\n",
       "      <td>NaN</td>\n",
       "      <td>NaN</td>\n",
       "      <td>0.999316</td>\n",
       "      <td>11.96720</td>\n",
       "      <td>12</td>\n",
       "      <td>12.0</td>\n",
       "      <td>2021-02-06 04:52:41.0</td>\n",
       "    </tr>\n",
       "    <tr>\n",
       "      <th>4</th>\n",
       "      <td>3</td>\n",
       "      <td>011_S_0003</td>\n",
       "      <td>m24</td>\n",
       "      <td>11</td>\n",
       "      <td>ADNI1</td>\n",
       "      <td>ADNI1</td>\n",
       "      <td>2007-09-12</td>\n",
       "      <td>AD</td>\n",
       "      <td>81.3</td>\n",
       "      <td>Male</td>\n",
       "      <td>...</td>\n",
       "      <td>239.7</td>\n",
       "      <td>22.83</td>\n",
       "      <td>1.08355</td>\n",
       "      <td>NaN</td>\n",
       "      <td>NaN</td>\n",
       "      <td>1.998630</td>\n",
       "      <td>23.93440</td>\n",
       "      <td>24</td>\n",
       "      <td>24.0</td>\n",
       "      <td>2021-02-06 04:52:41.0</td>\n",
       "    </tr>\n",
       "  </tbody>\n",
       "</table>\n",
       "<p>5 rows × 113 columns</p>\n",
       "</div>"
      ],
      "text/plain": [
       "   RID        PTID VISCODE  SITE COLPROT ORIGPROT    EXAMDATE DX_bl   AGE  \\\n",
       "0    2  011_S_0002      bl    11   ADNI1    ADNI1  2005-09-08    CN  74.3   \n",
       "1    3  011_S_0003      bl    11   ADNI1    ADNI1  2005-09-12    AD  81.3   \n",
       "2    3  011_S_0003     m06    11   ADNI1    ADNI1  2006-03-13    AD  81.3   \n",
       "3    3  011_S_0003     m12    11   ADNI1    ADNI1  2006-09-12    AD  81.3   \n",
       "4    3  011_S_0003     m24    11   ADNI1    ADNI1  2007-09-12    AD  81.3   \n",
       "\n",
       "  PTGENDER  ...  TAU_bl PTAU_bl   FDG_bl PIB_bl  AV45_bl  Years_bl  Month_bl  \\\n",
       "0     Male  ...     NaN     NaN  1.36665    NaN      NaN  0.000000   0.00000   \n",
       "1     Male  ...   239.7   22.83  1.08355    NaN      NaN  0.000000   0.00000   \n",
       "2     Male  ...   239.7   22.83  1.08355    NaN      NaN  0.498289   5.96721   \n",
       "3     Male  ...   239.7   22.83  1.08355    NaN      NaN  0.999316  11.96720   \n",
       "4     Male  ...   239.7   22.83  1.08355    NaN      NaN  1.998630  23.93440   \n",
       "\n",
       "   Month     M           update_stamp  \n",
       "0      0   0.0  2021-02-06 04:52:41.0  \n",
       "1      0   0.0  2021-02-06 04:52:41.0  \n",
       "2      6   6.0  2021-02-06 04:52:41.0  \n",
       "3     12  12.0  2021-02-06 04:52:41.0  \n",
       "4     24  24.0  2021-02-06 04:52:41.0  \n",
       "\n",
       "[5 rows x 113 columns]"
      ]
     },
     "execution_count": 4,
     "metadata": {},
     "output_type": "execute_result"
    }
   ],
   "source": [
    "data.head(5)"
   ]
  },
  {
   "cell_type": "code",
   "execution_count": 6,
   "metadata": {},
   "outputs": [],
   "source": [
    "all_files = os.listdir('/home/cpabalan/brainlabs_cp/brainlabs_prep/data/input_files')"
   ]
  },
  {
   "cell_type": "code",
   "execution_count": 7,
   "metadata": {},
   "outputs": [],
   "source": [
    "pipe_prep = Pipeline([('FilesWithMRI', FilesWithMRI(all_files)),\n",
    "                      ('Remove NaN ADAS11 rows', RemoveNanRows(['ADAS11'])),\n",
    "                      ('Remove NaN MMSE rows', RemoveNanRows(['MMSE'])),\n",
    "                      ('Drop Cognitive Columns', DropRowsCog()),\n",
    "                      ('Drop Non-Baseline Columns', DropNotBaseline()),\n",
    "                      ('Correct TAU/ABETA', CorrectUniqueCat()),\n",
    "                      ('Filter Extensive NaNs/Impute', CorrectNaNs()),\n",
    "                      ('Change Data Types', ChangeDTypes()),\n",
    "                      ('OneHotEncoder', OneHotEncode())\n",
    "                     ])\n",
    "\n",
    "df = pipe_prep.fit_transform(data.copy())"
   ]
  },
  {
   "cell_type": "code",
   "execution_count": 8,
   "metadata": {},
   "outputs": [
    {
     "data": {
      "text/plain": [
       "0       sub-ADNI100S0006_ses-M06_T1w\n",
       "1       sub-ADNI100S0006_ses-M12_T1w\n",
       "2       sub-ADNI100S0006_ses-M18_T1w\n",
       "3       sub-ADNI100S0006_ses-M36_T1w\n",
       "4       sub-ADNI100S0015_ses-M12_T1w\n",
       "                    ...             \n",
       "1643    sub-ADNI068S4431_ses-M84_T1w\n",
       "1644    sub-ADNI018S2133_ses-M96_T1w\n",
       "1645    sub-ADNI116S4855_ses-M72_T1w\n",
       "1646    sub-ADNI011S4278_ses-M84_T1w\n",
       "1647    sub-ADNI051S5285_ses-M48_T1w\n",
       "Name: filenames, Length: 1643, dtype: object"
      ]
     },
     "execution_count": 8,
     "metadata": {},
     "output_type": "execute_result"
    }
   ],
   "source": [
    "df.filenames"
   ]
  },
  {
   "cell_type": "code",
   "execution_count": 9,
   "metadata": {},
   "outputs": [
    {
     "data": {
      "text/plain": [
       "Index(['AGE', 'PTEDUCAT', 'APOE4', 'ADAS11', 'MMSE', 'ABETA_bl', 'TAU_bl',\n",
       "       'PTAU_bl', 'M', 'filenames', 'DX_bl_AD', 'DX_bl_CN', 'DX_bl_EMCI',\n",
       "       'DX_bl_LMCI', 'DX_bl_SMC', 'DX_bl_nan', 'PTGENDER_Female',\n",
       "       'PTGENDER_Male', 'PTGENDER_nan', 'PTMARRY_Divorced', 'PTMARRY_Married',\n",
       "       'PTMARRY_Never married', 'PTMARRY_Unknown', 'PTMARRY_Widowed',\n",
       "       'PTMARRY_nan'],\n",
       "      dtype='object')"
      ]
     },
     "execution_count": 9,
     "metadata": {},
     "output_type": "execute_result"
    }
   ],
   "source": [
    "df.columns"
   ]
  },
  {
   "cell_type": "code",
   "execution_count": 10,
   "metadata": {},
   "outputs": [],
   "source": [
    "df = df.drop(columns=['PTMARRY_Unknown', 'PTMARRY_Widowed',\n",
    "       'PTMARRY_nan','DX_bl_nan'])"
   ]
  },
  {
   "cell_type": "code",
   "execution_count": 11,
   "metadata": {},
   "outputs": [
    {
     "data": {
      "text/html": [
       "<div>\n",
       "<style scoped>\n",
       "    .dataframe tbody tr th:only-of-type {\n",
       "        vertical-align: middle;\n",
       "    }\n",
       "\n",
       "    .dataframe tbody tr th {\n",
       "        vertical-align: top;\n",
       "    }\n",
       "\n",
       "    .dataframe thead th {\n",
       "        text-align: right;\n",
       "    }\n",
       "</style>\n",
       "<table border=\"1\" class=\"dataframe\">\n",
       "  <thead>\n",
       "    <tr style=\"text-align: right;\">\n",
       "      <th></th>\n",
       "      <th>AGE</th>\n",
       "      <th>PTEDUCAT</th>\n",
       "      <th>APOE4</th>\n",
       "      <th>ADAS11</th>\n",
       "      <th>MMSE</th>\n",
       "      <th>ABETA_bl</th>\n",
       "      <th>TAU_bl</th>\n",
       "      <th>PTAU_bl</th>\n",
       "      <th>M</th>\n",
       "      <th>filenames</th>\n",
       "      <th>...</th>\n",
       "      <th>DX_bl_CN</th>\n",
       "      <th>DX_bl_EMCI</th>\n",
       "      <th>DX_bl_LMCI</th>\n",
       "      <th>DX_bl_SMC</th>\n",
       "      <th>PTGENDER_Female</th>\n",
       "      <th>PTGENDER_Male</th>\n",
       "      <th>PTGENDER_nan</th>\n",
       "      <th>PTMARRY_Divorced</th>\n",
       "      <th>PTMARRY_Married</th>\n",
       "      <th>PTMARRY_Never married</th>\n",
       "    </tr>\n",
       "  </thead>\n",
       "  <tbody>\n",
       "    <tr>\n",
       "      <th>0</th>\n",
       "      <td>80.4</td>\n",
       "      <td>13</td>\n",
       "      <td>0.0</td>\n",
       "      <td>19.00</td>\n",
       "      <td>21</td>\n",
       "      <td>1002.240126</td>\n",
       "      <td>286.524536</td>\n",
       "      <td>27.657809</td>\n",
       "      <td>6</td>\n",
       "      <td>sub-ADNI100S0006_ses-M06_T1w</td>\n",
       "      <td>...</td>\n",
       "      <td>0</td>\n",
       "      <td>0</td>\n",
       "      <td>1</td>\n",
       "      <td>0</td>\n",
       "      <td>1</td>\n",
       "      <td>0</td>\n",
       "      <td>0</td>\n",
       "      <td>0</td>\n",
       "      <td>1</td>\n",
       "      <td>0</td>\n",
       "    </tr>\n",
       "    <tr>\n",
       "      <th>1</th>\n",
       "      <td>80.4</td>\n",
       "      <td>13</td>\n",
       "      <td>0.0</td>\n",
       "      <td>18.67</td>\n",
       "      <td>26</td>\n",
       "      <td>1002.240126</td>\n",
       "      <td>286.524536</td>\n",
       "      <td>27.657809</td>\n",
       "      <td>12</td>\n",
       "      <td>sub-ADNI100S0006_ses-M12_T1w</td>\n",
       "      <td>...</td>\n",
       "      <td>0</td>\n",
       "      <td>0</td>\n",
       "      <td>1</td>\n",
       "      <td>0</td>\n",
       "      <td>1</td>\n",
       "      <td>0</td>\n",
       "      <td>0</td>\n",
       "      <td>0</td>\n",
       "      <td>1</td>\n",
       "      <td>0</td>\n",
       "    </tr>\n",
       "    <tr>\n",
       "      <th>2</th>\n",
       "      <td>80.4</td>\n",
       "      <td>13</td>\n",
       "      <td>0.0</td>\n",
       "      <td>11.33</td>\n",
       "      <td>24</td>\n",
       "      <td>1002.240126</td>\n",
       "      <td>286.524536</td>\n",
       "      <td>27.657809</td>\n",
       "      <td>18</td>\n",
       "      <td>sub-ADNI100S0006_ses-M18_T1w</td>\n",
       "      <td>...</td>\n",
       "      <td>0</td>\n",
       "      <td>0</td>\n",
       "      <td>1</td>\n",
       "      <td>0</td>\n",
       "      <td>1</td>\n",
       "      <td>0</td>\n",
       "      <td>0</td>\n",
       "      <td>0</td>\n",
       "      <td>1</td>\n",
       "      <td>0</td>\n",
       "    </tr>\n",
       "    <tr>\n",
       "      <th>3</th>\n",
       "      <td>80.4</td>\n",
       "      <td>13</td>\n",
       "      <td>0.0</td>\n",
       "      <td>17.67</td>\n",
       "      <td>22</td>\n",
       "      <td>1002.240126</td>\n",
       "      <td>286.524536</td>\n",
       "      <td>27.657809</td>\n",
       "      <td>36</td>\n",
       "      <td>sub-ADNI100S0006_ses-M36_T1w</td>\n",
       "      <td>...</td>\n",
       "      <td>0</td>\n",
       "      <td>0</td>\n",
       "      <td>1</td>\n",
       "      <td>0</td>\n",
       "      <td>1</td>\n",
       "      <td>0</td>\n",
       "      <td>0</td>\n",
       "      <td>0</td>\n",
       "      <td>1</td>\n",
       "      <td>0</td>\n",
       "    </tr>\n",
       "    <tr>\n",
       "      <th>4</th>\n",
       "      <td>80.8</td>\n",
       "      <td>18</td>\n",
       "      <td>1.0</td>\n",
       "      <td>6.67</td>\n",
       "      <td>27</td>\n",
       "      <td>1002.240126</td>\n",
       "      <td>286.524536</td>\n",
       "      <td>27.657809</td>\n",
       "      <td>12</td>\n",
       "      <td>sub-ADNI100S0015_ses-M12_T1w</td>\n",
       "      <td>...</td>\n",
       "      <td>1</td>\n",
       "      <td>0</td>\n",
       "      <td>0</td>\n",
       "      <td>0</td>\n",
       "      <td>0</td>\n",
       "      <td>1</td>\n",
       "      <td>0</td>\n",
       "      <td>0</td>\n",
       "      <td>1</td>\n",
       "      <td>0</td>\n",
       "    </tr>\n",
       "    <tr>\n",
       "      <th>...</th>\n",
       "      <td>...</td>\n",
       "      <td>...</td>\n",
       "      <td>...</td>\n",
       "      <td>...</td>\n",
       "      <td>...</td>\n",
       "      <td>...</td>\n",
       "      <td>...</td>\n",
       "      <td>...</td>\n",
       "      <td>...</td>\n",
       "      <td>...</td>\n",
       "      <td>...</td>\n",
       "      <td>...</td>\n",
       "      <td>...</td>\n",
       "      <td>...</td>\n",
       "      <td>...</td>\n",
       "      <td>...</td>\n",
       "      <td>...</td>\n",
       "      <td>...</td>\n",
       "      <td>...</td>\n",
       "      <td>...</td>\n",
       "      <td>...</td>\n",
       "    </tr>\n",
       "    <tr>\n",
       "      <th>1643</th>\n",
       "      <td>74.1</td>\n",
       "      <td>16</td>\n",
       "      <td>0.0</td>\n",
       "      <td>13.33</td>\n",
       "      <td>27</td>\n",
       "      <td>618.500000</td>\n",
       "      <td>158.200000</td>\n",
       "      <td>14.890000</td>\n",
       "      <td>84</td>\n",
       "      <td>sub-ADNI068S4431_ses-M84_T1w</td>\n",
       "      <td>...</td>\n",
       "      <td>0</td>\n",
       "      <td>1</td>\n",
       "      <td>0</td>\n",
       "      <td>0</td>\n",
       "      <td>0</td>\n",
       "      <td>1</td>\n",
       "      <td>0</td>\n",
       "      <td>0</td>\n",
       "      <td>1</td>\n",
       "      <td>0</td>\n",
       "    </tr>\n",
       "    <tr>\n",
       "      <th>1644</th>\n",
       "      <td>62.5</td>\n",
       "      <td>18</td>\n",
       "      <td>2.0</td>\n",
       "      <td>35.67</td>\n",
       "      <td>22</td>\n",
       "      <td>413.900000</td>\n",
       "      <td>328.300000</td>\n",
       "      <td>28.710000</td>\n",
       "      <td>96</td>\n",
       "      <td>sub-ADNI018S2133_ses-M96_T1w</td>\n",
       "      <td>...</td>\n",
       "      <td>0</td>\n",
       "      <td>1</td>\n",
       "      <td>0</td>\n",
       "      <td>0</td>\n",
       "      <td>1</td>\n",
       "      <td>0</td>\n",
       "      <td>0</td>\n",
       "      <td>0</td>\n",
       "      <td>1</td>\n",
       "      <td>0</td>\n",
       "    </tr>\n",
       "    <tr>\n",
       "      <th>1645</th>\n",
       "      <td>83.8</td>\n",
       "      <td>14</td>\n",
       "      <td>1.0</td>\n",
       "      <td>10.67</td>\n",
       "      <td>28</td>\n",
       "      <td>732.800000</td>\n",
       "      <td>228.100000</td>\n",
       "      <td>21.480000</td>\n",
       "      <td>72</td>\n",
       "      <td>sub-ADNI116S4855_ses-M72_T1w</td>\n",
       "      <td>...</td>\n",
       "      <td>1</td>\n",
       "      <td>0</td>\n",
       "      <td>0</td>\n",
       "      <td>0</td>\n",
       "      <td>0</td>\n",
       "      <td>1</td>\n",
       "      <td>0</td>\n",
       "      <td>0</td>\n",
       "      <td>1</td>\n",
       "      <td>0</td>\n",
       "    </tr>\n",
       "    <tr>\n",
       "      <th>1646</th>\n",
       "      <td>75.0</td>\n",
       "      <td>14</td>\n",
       "      <td>1.0</td>\n",
       "      <td>21.33</td>\n",
       "      <td>24</td>\n",
       "      <td>422.800000</td>\n",
       "      <td>205.100000</td>\n",
       "      <td>19.330000</td>\n",
       "      <td>84</td>\n",
       "      <td>sub-ADNI011S4278_ses-M84_T1w</td>\n",
       "      <td>...</td>\n",
       "      <td>1</td>\n",
       "      <td>0</td>\n",
       "      <td>0</td>\n",
       "      <td>0</td>\n",
       "      <td>0</td>\n",
       "      <td>1</td>\n",
       "      <td>0</td>\n",
       "      <td>0</td>\n",
       "      <td>1</td>\n",
       "      <td>0</td>\n",
       "    </tr>\n",
       "    <tr>\n",
       "      <th>1647</th>\n",
       "      <td>71.4</td>\n",
       "      <td>16</td>\n",
       "      <td>0.0</td>\n",
       "      <td>15.00</td>\n",
       "      <td>29</td>\n",
       "      <td>955.400000</td>\n",
       "      <td>123.400000</td>\n",
       "      <td>10.790000</td>\n",
       "      <td>48</td>\n",
       "      <td>sub-ADNI051S5285_ses-M48_T1w</td>\n",
       "      <td>...</td>\n",
       "      <td>0</td>\n",
       "      <td>0</td>\n",
       "      <td>0</td>\n",
       "      <td>1</td>\n",
       "      <td>0</td>\n",
       "      <td>1</td>\n",
       "      <td>0</td>\n",
       "      <td>1</td>\n",
       "      <td>0</td>\n",
       "      <td>0</td>\n",
       "    </tr>\n",
       "  </tbody>\n",
       "</table>\n",
       "<p>1643 rows × 21 columns</p>\n",
       "</div>"
      ],
      "text/plain": [
       "       AGE  PTEDUCAT  APOE4  ADAS11  MMSE     ABETA_bl      TAU_bl    PTAU_bl  \\\n",
       "0     80.4        13    0.0   19.00    21  1002.240126  286.524536  27.657809   \n",
       "1     80.4        13    0.0   18.67    26  1002.240126  286.524536  27.657809   \n",
       "2     80.4        13    0.0   11.33    24  1002.240126  286.524536  27.657809   \n",
       "3     80.4        13    0.0   17.67    22  1002.240126  286.524536  27.657809   \n",
       "4     80.8        18    1.0    6.67    27  1002.240126  286.524536  27.657809   \n",
       "...    ...       ...    ...     ...   ...          ...         ...        ...   \n",
       "1643  74.1        16    0.0   13.33    27   618.500000  158.200000  14.890000   \n",
       "1644  62.5        18    2.0   35.67    22   413.900000  328.300000  28.710000   \n",
       "1645  83.8        14    1.0   10.67    28   732.800000  228.100000  21.480000   \n",
       "1646  75.0        14    1.0   21.33    24   422.800000  205.100000  19.330000   \n",
       "1647  71.4        16    0.0   15.00    29   955.400000  123.400000  10.790000   \n",
       "\n",
       "       M                     filenames  ...  DX_bl_CN  DX_bl_EMCI  DX_bl_LMCI  \\\n",
       "0      6  sub-ADNI100S0006_ses-M06_T1w  ...         0           0           1   \n",
       "1     12  sub-ADNI100S0006_ses-M12_T1w  ...         0           0           1   \n",
       "2     18  sub-ADNI100S0006_ses-M18_T1w  ...         0           0           1   \n",
       "3     36  sub-ADNI100S0006_ses-M36_T1w  ...         0           0           1   \n",
       "4     12  sub-ADNI100S0015_ses-M12_T1w  ...         1           0           0   \n",
       "...   ..                           ...  ...       ...         ...         ...   \n",
       "1643  84  sub-ADNI068S4431_ses-M84_T1w  ...         0           1           0   \n",
       "1644  96  sub-ADNI018S2133_ses-M96_T1w  ...         0           1           0   \n",
       "1645  72  sub-ADNI116S4855_ses-M72_T1w  ...         1           0           0   \n",
       "1646  84  sub-ADNI011S4278_ses-M84_T1w  ...         1           0           0   \n",
       "1647  48  sub-ADNI051S5285_ses-M48_T1w  ...         0           0           0   \n",
       "\n",
       "      DX_bl_SMC  PTGENDER_Female  PTGENDER_Male  PTGENDER_nan  \\\n",
       "0             0                1              0             0   \n",
       "1             0                1              0             0   \n",
       "2             0                1              0             0   \n",
       "3             0                1              0             0   \n",
       "4             0                0              1             0   \n",
       "...         ...              ...            ...           ...   \n",
       "1643          0                0              1             0   \n",
       "1644          0                1              0             0   \n",
       "1645          0                0              1             0   \n",
       "1646          0                0              1             0   \n",
       "1647          1                0              1             0   \n",
       "\n",
       "      PTMARRY_Divorced  PTMARRY_Married  PTMARRY_Never married  \n",
       "0                    0                1                      0  \n",
       "1                    0                1                      0  \n",
       "2                    0                1                      0  \n",
       "3                    0                1                      0  \n",
       "4                    0                1                      0  \n",
       "...                ...              ...                    ...  \n",
       "1643                 0                1                      0  \n",
       "1644                 0                1                      0  \n",
       "1645                 0                1                      0  \n",
       "1646                 0                1                      0  \n",
       "1647                 1                0                      0  \n",
       "\n",
       "[1643 rows x 21 columns]"
      ]
     },
     "execution_count": 11,
     "metadata": {},
     "output_type": "execute_result"
    }
   ],
   "source": [
    "df"
   ]
  },
  {
   "cell_type": "code",
   "execution_count": 12,
   "metadata": {},
   "outputs": [],
   "source": [
    "X_tr, X_v, y_tr, y_v = get_file_splits()  "
   ]
  },
  {
   "cell_type": "markdown",
   "metadata": {},
   "source": [
    " - Replace baseline values with the corresponding data we had for the first MRI scan\n",
    " - Return the slope and intercept of the linear functions corresponding to months from baseline against the ADAS11 score"
   ]
  },
  {
   "cell_type": "code",
   "execution_count": 13,
   "metadata": {},
   "outputs": [],
   "source": [
    "from scipy.stats import linregress\n",
    "\n",
    "def get_linear_function(X_tr, df):\n",
    "\n",
    "    data= df[df.filenames.isin(list(map(lambda x: x.split('.nii')[0], X_tr)))]\n",
    "    pids = list(map(lambda x: x[8:16], data.filenames))\n",
    "    patient_ids = list(set(pids))\n",
    "    patient_dfs = []\n",
    "\n",
    "    for i in range(len(patient_ids)):\n",
    "        #print(i)\n",
    "        patient_df = data[data.filenames.str.contains(patient_ids[i])][data.ADAS11.notnull()][['M','ADAS11']]\n",
    "\n",
    "        # if there are no rows adas11 score\n",
    "        if data[data.filenames.str.contains(patient_ids[i])][data.ADAS11.notnull()][['M','ADAS11']].empty:\n",
    "            continue\n",
    "        adas_min_month = float(patient_df[patient_df.M == patient_df.M.min()].ADAS11)\n",
    "        month_min_month = int(patient_df[patient_df.M == patient_df.M.min()].M)\n",
    "        patient_df['M'] = patient_df['M']- month_min_month\n",
    "        patient_df['ADAS11'] = patient_df['ADAS11']- adas_min_month\n",
    "        patient_dfs.append(patient_df)\n",
    "    df_concat = pd.concat(patient_dfs)\n",
    "    X = df_concat.M.values\n",
    "    Y = df_concat.ADAS11.values\n",
    "\n",
    "    slope, intercept, rval, pval, std =  linregress(X, Y)\n",
    "    return X, Y, df_concat, slope, intercept, rval, pval, std"
   ]
  },
  {
   "cell_type": "code",
   "execution_count": 14,
   "metadata": {},
   "outputs": [],
   "source": [
    "X, Y, df_concat, slope, intercept, rval, pval, std = get_linear_function(X_tr, df)"
   ]
  },
  {
   "cell_type": "code",
   "execution_count": 15,
   "metadata": {},
   "outputs": [],
   "source": [
    "df.loc[df_concat.index, 'M'] = df_concat.M"
   ]
  },
  {
   "cell_type": "code",
   "execution_count": 16,
   "metadata": {},
   "outputs": [
    {
     "data": {
      "text/plain": [
       "<bound method IndexOpsMixin.value_counts of 2       18\n",
       "5       36\n",
       "7       24\n",
       "10      36\n",
       "17       6\n",
       "        ..\n",
       "1639    60\n",
       "1643    84\n",
       "1644    96\n",
       "1645    72\n",
       "1647    48\n",
       "Name: M, Length: 485, dtype: int64>"
      ]
     },
     "execution_count": 16,
     "metadata": {},
     "output_type": "execute_result"
    }
   ],
   "source": [
    "df.loc[~df.index.isin(df_concat.index)].M.value_counts"
   ]
  },
  {
   "cell_type": "code",
   "execution_count": 17,
   "metadata": {},
   "outputs": [
    {
     "data": {
      "text/plain": [
       "1206    0\n",
       "534     0\n",
       "694     0\n",
       "344     0\n",
       "345     6\n",
       "       ..\n",
       "90      0\n",
       "637     0\n",
       "688     0\n",
       "89      0\n",
       "1266    0\n",
       "Name: M, Length: 1158, dtype: int64"
      ]
     },
     "execution_count": 17,
     "metadata": {},
     "output_type": "execute_result"
    }
   ],
   "source": [
    "df_concat.M"
   ]
  },
  {
   "cell_type": "code",
   "execution_count": 18,
   "metadata": {},
   "outputs": [
    {
     "data": {
      "text/plain": [
       "0"
      ]
     },
     "execution_count": 18,
     "metadata": {},
     "output_type": "execute_result"
    }
   ],
   "source": [
    "df.loc[277].M"
   ]
  },
  {
   "cell_type": "code",
   "execution_count": 19,
   "metadata": {},
   "outputs": [
    {
     "data": {
      "text/plain": [
       "0     852\n",
       "6     134\n",
       "12    132\n",
       "24    129\n",
       "18     87\n",
       "48     68\n",
       "36     59\n",
       "60     33\n",
       "72     33\n",
       "84     33\n",
       "30     28\n",
       "96     23\n",
       "90     14\n",
       "42     10\n",
       "78      5\n",
       "66      2\n",
       "54      1\n",
       "Name: M, dtype: int64"
      ]
     },
     "execution_count": 19,
     "metadata": {},
     "output_type": "execute_result"
    }
   ],
   "source": [
    "df.M.value_counts()"
   ]
  },
  {
   "cell_type": "code",
   "execution_count": 20,
   "metadata": {},
   "outputs": [],
   "source": [
    "#df"
   ]
  },
  {
   "cell_type": "code",
   "execution_count": 21,
   "metadata": {},
   "outputs": [],
   "source": [
    "#df.to_csv (r'data/cleaned_df_4_26.csv', index = False, header=True)"
   ]
  },
  {
   "cell_type": "code",
   "execution_count": 23,
   "metadata": {},
   "outputs": [],
   "source": [
    "df = pd.read_csv('/home/cpabalan/brainlabs_cp/brainlabs_prep/data/cleaned_df_4_26.csv')"
   ]
  },
  {
   "cell_type": "code",
   "execution_count": 24,
   "metadata": {},
   "outputs": [],
   "source": [
    "## Ensure balanced train and val sets using a dummy column\n",
    "\n",
    "df.loc[df.ADAS11 < 10, 'ADAS_refined'] = 0\n",
    "df.loc[((df.ADAS11 < 20) & (df.ADAS11 >= 10)), 'ADAS_refined'] = 1\n",
    "df.loc[((df.ADAS11 < 30) & (df.ADAS11 >= 20)), 'ADAS_refined'] = 2\n",
    "df.loc[((df.ADAS11 < 60) & (df.ADAS11 >= 30)), 'ADAS_refined'] = 3\n",
    "df.loc[((df.ADAS11 < 80) & (df.ADAS11 >= 60)), 'ADAS_refined'] = 4\n",
    "\n",
    "X_train, X_val = train_test_split(df.filenames, test_size=0.15,stratify=df.ADAS_refined, random_state=42)\n",
    "\n",
    "X_tr = [f.split('.nii')[0] for f in X_train]\n",
    "X_v = [f.split('.nii')[0] for f in X_val]"
   ]
  },
  {
   "cell_type": "code",
   "execution_count": 25,
   "metadata": {},
   "outputs": [],
   "source": [
    "X_train, X_test = train_test_split(X_train, test_size=0.17,stratify=df[df.filenames.isin(X_tr)].ADAS_refined, random_state=42)"
   ]
  },
  {
   "cell_type": "code",
   "execution_count": 26,
   "metadata": {},
   "outputs": [],
   "source": [
    "X_tr = [f.split('.nii')[0] for f in X_train]\n",
    "X_v = [f.split('.nii')[0] for f in X_val]\n",
    "X_te = [f.split('.nii')[0] for f in X_test]"
   ]
  },
  {
   "cell_type": "code",
   "execution_count": 27,
   "metadata": {},
   "outputs": [],
   "source": [
    "df = df.drop(columns = 'ADAS_refined')"
   ]
  },
  {
   "cell_type": "code",
   "execution_count": 28,
   "metadata": {},
   "outputs": [
    {
     "data": {
      "text/plain": [
       "(247, 238, 1158)"
      ]
     },
     "execution_count": 28,
     "metadata": {},
     "output_type": "execute_result"
    }
   ],
   "source": [
    "len(X_v), len(X_te), len(X_tr)"
   ]
  },
  {
   "cell_type": "code",
   "execution_count": 29,
   "metadata": {},
   "outputs": [],
   "source": [
    "#X_tr"
   ]
  },
  {
   "cell_type": "code",
   "execution_count": 30,
   "metadata": {},
   "outputs": [],
   "source": [
    "# from joblib import dump, load\n",
    "# dump(X_tr, 'train_files2.data') \n",
    "# dump(X_v, 'val_files2.data') \n",
    "# dump(X_te, 'test_files2.data') "
   ]
  },
  {
   "cell_type": "code",
   "execution_count": 32,
   "metadata": {},
   "outputs": [],
   "source": [
    "df = pd.read_csv('/home/cpabalan/brainlabs_cp/brainlabs_prep/data/cleaned_df_4_26.csv')\n",
    "X_tr = load('/home/cpabalan/brainlabs_cp/brainlabs_prep/data/train_files2.data') \n",
    "X_v = load('/home/cpabalan/brainlabs_cp/brainlabs_prep/data/val_files2.data') \n",
    "#X_tr, X_v, y_tr, y_v = get_file_splits()\n",
    "X_train, X_val, y_adas_train, y_adas_val, y_mmse_train, y_mmse_val= split_train_val(X_tr, X_v, X_tr, X_v, df)"
   ]
  },
  {
   "cell_type": "code",
   "execution_count": 33,
   "metadata": {},
   "outputs": [
    {
     "data": {
      "text/plain": [
       "((1158, 18), (247, 18))"
      ]
     },
     "execution_count": 33,
     "metadata": {},
     "output_type": "execute_result"
    }
   ],
   "source": [
    "X_train.shape, X_val.shape"
   ]
  },
  {
   "cell_type": "code",
   "execution_count": 34,
   "metadata": {},
   "outputs": [
    {
     "data": {
      "image/png": "[encoded data removed]",
      "text/plain": [
       "<Figure size 1080x360 with 2 Axes>"
      ]
     },
     "metadata": {
      "needs_background": "light"
     },
     "output_type": "display_data"
    }
   ],
   "source": [
    "fig, ax = plt.subplots(1,2, figsize=(15,5))\n",
    "ax[1].bar(pd.Series(y_adas_val).value_counts().keys(), pd.Series(y_adas_val).value_counts().values)\n",
    "ax[1].set_title('Validation ADAS11 Distribution')\n",
    "ax[0].bar(pd.Series(y_adas_train).value_counts().keys(), pd.Series(y_adas_train).value_counts().values)\n",
    "ax[0].set_title('Train ADAS11 Distribution')\n",
    "plt.show()"
   ]
  },
  {
   "cell_type": "code",
   "execution_count": 35,
   "metadata": {},
   "outputs": [
    {
     "data": {
      "image/png": "[encoded data removed]",
      "text/plain": [
       "<Figure size 1080x360 with 2 Axes>"
      ]
     },
     "metadata": {
      "needs_background": "light"
     },
     "output_type": "display_data"
    }
   ],
   "source": [
    "fig, ax = plt.subplots(1,2, figsize=(15,5))\n",
    "ax[1].bar(pd.Series(y_mmse_val).value_counts().keys(), pd.Series(y_mmse_val).value_counts().values)\n",
    "ax[1].set_title('Validation MMSE Distribution')\n",
    "ax[0].bar(pd.Series(y_mmse_train).value_counts().keys(), pd.Series(y_mmse_train).value_counts().values)\n",
    "ax[0].set_title('Train MMSE Distribution')\n",
    "plt.show()"
   ]
  },
  {
   "cell_type": "code",
   "execution_count": null,
   "metadata": {},
   "outputs": [],
   "source": []
  }
 ],
 "metadata": {
  "kernelspec": {
   "display_name": "Python 3",
   "language": "python",
   "name": "python3"
  },
  "language_info": {
   "codemirror_mode": {
    "name": "ipython",
    "version": 3
   },
   "file_extension": ".py",
   "mimetype": "text/x-python",
   "name": "python",
   "nbconvert_exporter": "python",
   "pygments_lexer": "ipython3",
   "version": "3.8.3"
  }
 },
 "nbformat": 4,
 "nbformat_minor": 5
}
